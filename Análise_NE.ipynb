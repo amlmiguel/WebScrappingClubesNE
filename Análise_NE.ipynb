{
  "nbformat": 4,
  "nbformat_minor": 0,
  "metadata": {
    "colab": {
      "name": "Análise NE.ipynb",
      "provenance": [],
      "collapsed_sections": [],
      "authorship_tag": "ABX9TyOlSV9z4ijvbqPN1+BCH4pj",
      "include_colab_link": true
    },
    "kernelspec": {
      "name": "python3",
      "display_name": "Python 3"
    }
  },
  "cells": [
    {
      "cell_type": "markdown",
      "metadata": {
        "id": "view-in-github",
        "colab_type": "text"
      },
      "source": [
        "<a href=\"https://colab.research.google.com/github/amlmiguel/WebScrappingClubesNE/blob/main/An%C3%A1lise_NE.ipynb\" target=\"_parent\"><img src=\"https://colab.research.google.com/assets/colab-badge.svg\" alt=\"Open In Colab\"/></a>"
      ]
    },
    {
      "cell_type": "code",
      "metadata": {
        "id": "ZCbQy84lrYLH"
      },
      "source": [
        "from bs4 import BeautifulSoup\n",
        "from datetime import date\n",
        "import requests\n",
        "import pandas as pd\n",
        "import numpy as np\n",
        "pd.set_option('display.max_rows', None)\n",
        "euro = 6.07"
      ],
      "execution_count": null,
      "outputs": []
    },
    {
      "cell_type": "code",
      "metadata": {
        "id": "9qyxJOBhromT"
      },
      "source": [
        "jogadores = []"
      ],
      "execution_count": null,
      "outputs": []
    },
    {
      "cell_type": "markdown",
      "metadata": {
        "id": "FhVJ6ypxrt14"
      },
      "source": [
        "#EC Bahia\n",
        "\n"
      ]
    },
    {
      "cell_type": "code",
      "metadata": {
        "id": "edkgjPs9r9iw"
      },
      "source": [
        "headers = {'User-Agent': 'Mozilla/5.0 (X11; Linux x86_64) AppleWebKit/537.36 (KHTML, like Gecko) Chrome/47.0.2526.106 Safari/537.36'}\n",
        "r = requests.get('https://www.transfermarkt.com.br/esporte-clube-jogadores/kader/verein/10010/saison_id/2019/plus/1', headers=headers)\n",
        "soup = BeautifulSoup(r.text, 'html.parser')\n",
        "impar = soup.find('table',{'class':'items'}).find_all('tr',{'class':'odd'})\n",
        "par = soup.find('table',{'class':'items'}).find_all('tr',{'class':'even'})\n",
        "clube = soup.find('div',{'class':'dataName'}).span.text\n",
        "\n",
        "for jog in impar:\n",
        "    id = jog.find('a', {'class':'spielprofil_tooltip'})['id']\n",
        "    nome = jog.find_all(\"tr\")[0].img.get(\"alt\")\n",
        "    clube = clube\n",
        "    tds = jog.find_all(\"td\", {\"class\": \"zentriert\"})\n",
        "    posicao = tds[0].get(\"title\")\n",
        "    idade = tds[1].text[-3:-1]\n",
        "    nacionalidade = tds[2].img.get(\"alt\")\n",
        "    altura = tds[3].text[0:-2]\n",
        "    pe = tds[4].text\n",
        "    desde = tds[5].text\n",
        "    try:\n",
        "        clube_anterior = tds[6].img.get(\"alt\")\n",
        "    except AttributeError:\n",
        "        clube_anterior = 'categoria de base'\n",
        "    try:    \n",
        "      preco_pago = tds[6].img.get('title')\n",
        "    except AttributeError:\n",
        "      preco_pago = 'NA'\n",
        "    contrato = tds[7].text\n",
        "    if jog.find(\"td\", {\"class\": \"rechts hauptlink\"}).text[0:-2] is not '':\n",
        "      valor = jog.find(\"td\", {\"class\": \"rechts hauptlink\"}).text[0:-2]\n",
        "    else:\n",
        "      valor = 0\n",
        "    jogadores.append(\n",
        "        (   id,\n",
        "            nome,\n",
        "            clube,\n",
        "            posicao,\n",
        "            idade,\n",
        "            nacionalidade,\n",
        "            altura,\n",
        "            pe,\n",
        "            desde,\n",
        "            clube_anterior,\n",
        "            preco_pago,\n",
        "            contrato,\n",
        "            valor,\n",
        "        )\n",
        "    )\n",
        "\n",
        "\n",
        "for jog in par:\n",
        "    id = jog.find('a', {'class':'spielprofil_tooltip'})['id']\n",
        "    nome = jog.find_all(\"tr\")[0].img.get(\"alt\")\n",
        "    clube = clube\n",
        "    tds = jog.find_all(\"td\", {\"class\": \"zentriert\"})\n",
        "    posicao = tds[0].get(\"title\")\n",
        "    idade = tds[1].text[-3:-1]\n",
        "    nacionalidade = tds[2].img.get(\"alt\")\n",
        "    altura = tds[3].text[0:-2]\n",
        "    pe = tds[4].text\n",
        "    desde = tds[5].text\n",
        "    try:\n",
        "        clube_anterior = tds[6].img.get(\"alt\")\n",
        "    except AttributeError:\n",
        "        clube_anterior = 'categoria de base'\n",
        "    try:    \n",
        "      preco_pago = tds[6].img.get('title')\n",
        "    except AttributeError:\n",
        "      preco_pago = 'NA'\n",
        "    contrato = tds[7].text\n",
        "    if jog.find(\"td\", {\"class\": \"rechts hauptlink\"}).text[0:-2] is not '':\n",
        "      valor = jog.find(\"td\", {\"class\": \"rechts hauptlink\"}).text[0:-2]\n",
        "    else:\n",
        "      valor = 0\n",
        "    jogadores.append(\n",
        "        ( id,\n",
        "            nome,\n",
        "            clube,\n",
        "            posicao,\n",
        "            idade,\n",
        "            nacionalidade,\n",
        "            altura,\n",
        "            pe,\n",
        "            desde,\n",
        "            clube_anterior,\n",
        "            preco_pago,\n",
        "            contrato,\n",
        "            valor,\n",
        "        )\n",
        "    )"
      ],
      "execution_count": null,
      "outputs": []
    },
    {
      "cell_type": "markdown",
      "metadata": {
        "id": "3454bxwqtIno"
      },
      "source": [
        "# Ceará Sporting Club"
      ]
    },
    {
      "cell_type": "code",
      "metadata": {
        "id": "q3g116XKsatP"
      },
      "source": [
        "headers = {'User-Agent': 'Mozilla/5.0 (X11; Linux x86_64) AppleWebKit/537.36 (KHTML, like Gecko) Chrome/47.0.2526.106 Safari/537.36'}\n",
        "r = requests.get('https://www.transfermarkt.com.br/ceara-sporting-club-ce-/kader/verein/2029/saison_id/2019/plus/1', headers=headers)\n",
        "soup = BeautifulSoup(r.text, 'html.parser')\n",
        "impar = soup.find('table',{'class':'items'}).find_all('tr',{'class':'odd'})\n",
        "par = soup.find('table',{'class':'items'}).find_all('tr',{'class':'even'})\n",
        "clube = soup.find('div',{'class':'dataName'}).span.text\n",
        "\n",
        "\n",
        "for jog in impar:\n",
        "    id = jog.find('a', {'class':'spielprofil_tooltip'})['id']\n",
        "    nome = jog.find_all(\"tr\")[0].img.get(\"alt\")\n",
        "    clube = clube\n",
        "    tds = jog.find_all(\"td\", {\"class\": \"zentriert\"})\n",
        "    posicao = tds[0].get(\"title\")\n",
        "    idade = tds[1].text[-3:-1]\n",
        "    nacionalidade = tds[2].img.get(\"alt\")\n",
        "    altura = tds[3].text[0:-2]\n",
        "    pe = tds[4].text\n",
        "    desde = tds[5].text\n",
        "    try:\n",
        "        clube_anterior = tds[6].img.get(\"alt\")\n",
        "    except AttributeError:\n",
        "        clube_anterior = 'categoria de base'\n",
        "    try:    \n",
        "      preco_pago = tds[6].img.get('title')\n",
        "    except AttributeError:\n",
        "      preco_pago = 'NA'\n",
        "    contrato = tds[7].text\n",
        "    if jog.find(\"td\", {\"class\": \"rechts hauptlink\"}).text[0:-2] is not '':\n",
        "      valor = jog.find(\"td\", {\"class\": \"rechts hauptlink\"}).text[0:-2]\n",
        "    else:\n",
        "      valor = 0\n",
        "    jogadores.append(\n",
        "        (   id,\n",
        "            nome,\n",
        "            clube,\n",
        "            posicao,\n",
        "            idade,\n",
        "            nacionalidade,\n",
        "            altura,\n",
        "            pe,\n",
        "            desde,\n",
        "            clube_anterior,\n",
        "            preco_pago,\n",
        "            contrato,\n",
        "            valor,\n",
        "        )\n",
        "    )\n",
        "\n",
        "\n",
        "for jog in par:\n",
        "    id = jog.find('a', {'class':'spielprofil_tooltip'})['id']\n",
        "    nome = jog.find_all(\"tr\")[0].img.get(\"alt\")\n",
        "    clube = clube\n",
        "    tds = jog.find_all(\"td\", {\"class\": \"zentriert\"})\n",
        "    posicao = tds[0].get(\"title\")\n",
        "    idade = tds[1].text[-3:-1]\n",
        "    nacionalidade = tds[2].img.get(\"alt\")\n",
        "    altura = tds[3].text[0:-2]\n",
        "    pe = tds[4].text\n",
        "    desde = tds[5].text\n",
        "    try:\n",
        "        clube_anterior = tds[6].img.get(\"alt\")\n",
        "    except AttributeError:\n",
        "        clube_anterior = 'categoria de base'\n",
        "    try:    \n",
        "      preco_pago = tds[6].img.get('title')\n",
        "    except AttributeError:\n",
        "      preco_pago = 'NA'\n",
        "    contrato = tds[7].text\n",
        "    if jog.find(\"td\", {\"class\": \"rechts hauptlink\"}).text[0:-2] is not '':\n",
        "      valor = jog.find(\"td\", {\"class\": \"rechts hauptlink\"}).text[0:-2]\n",
        "    else:\n",
        "      valor = 0\n",
        "    jogadores.append(\n",
        "        (   id,\n",
        "            nome,\n",
        "            clube,\n",
        "            posicao,\n",
        "            idade,\n",
        "            nacionalidade,\n",
        "            altura,\n",
        "            pe,\n",
        "            desde,\n",
        "            clube_anterior,\n",
        "            preco_pago,\n",
        "            contrato,\n",
        "            valor,\n",
        "        )\n",
        "    )"
      ],
      "execution_count": null,
      "outputs": []
    },
    {
      "cell_type": "markdown",
      "metadata": {
        "id": "aQnTySlRyJ4F"
      },
      "source": [
        "#Fortaleza EC"
      ]
    },
    {
      "cell_type": "code",
      "metadata": {
        "id": "j5tqhGd2x72J"
      },
      "source": [
        "headers = {'User-Agent': 'Mozilla/5.0 (X11; Linux x86_64) AppleWebKit/537.36 (KHTML, like Gecko) Chrome/47.0.2526.106 Safari/537.36'}\n",
        "r = requests.get('https://www.transfermarkt.com.br/fortaleza-esporte-clube/kader/verein/10870/saison_id/2019/plus/1', headers=headers)\n",
        "soup = BeautifulSoup(r.text, 'html.parser')\n",
        "impar = soup.find('table',{'class':'items'}).find_all('tr',{'class':'odd'})\n",
        "par = soup.find('table',{'class':'items'}).find_all('tr',{'class':'even'})\n",
        "clube = soup.find('div',{'class':'dataName'}).span.text\n",
        "\n",
        "\n",
        "for jog in impar:\n",
        "    id = jog.find('a', {'class':'spielprofil_tooltip'})['id']\n",
        "    nome = jog.find_all(\"tr\")[0].img.get(\"alt\")\n",
        "    clube = clube\n",
        "    tds = jog.find_all(\"td\", {\"class\": \"zentriert\"})\n",
        "    posicao = tds[0].get(\"title\")\n",
        "    idade = tds[1].text[-3:-1]\n",
        "    nacionalidade = tds[2].img.get(\"alt\")\n",
        "    altura = tds[3].text[0:-2]\n",
        "    pe = tds[4].text\n",
        "    desde = tds[5].text\n",
        "    try:\n",
        "        clube_anterior = tds[6].img.get(\"alt\")\n",
        "    except AttributeError:\n",
        "        clube_anterior = 'categoria de base'\n",
        "    try:    \n",
        "      preco_pago = tds[6].img.get('title')\n",
        "    except AttributeError:\n",
        "      preco_pago = 'NA'\n",
        "    contrato = tds[7].text\n",
        "    if jog.find(\"td\", {\"class\": \"rechts hauptlink\"}).text[0:-2] is not '':\n",
        "      valor = jog.find(\"td\", {\"class\": \"rechts hauptlink\"}).text[0:-2]\n",
        "    else:\n",
        "      valor = 0\n",
        "    jogadores.append(\n",
        "        (   id,\n",
        "            nome,\n",
        "            clube,\n",
        "            posicao,\n",
        "            idade,\n",
        "            nacionalidade,\n",
        "            altura,\n",
        "            pe,\n",
        "            desde,\n",
        "            clube_anterior,\n",
        "            preco_pago,\n",
        "            contrato,\n",
        "            valor,\n",
        "        )\n",
        "    )\n",
        "\n",
        "\n",
        "for jog in par:\n",
        "    id = jog.find('a', {'class':'spielprofil_tooltip'})['id']\n",
        "    nome = jog.find_all(\"tr\")[0].img.get(\"alt\")\n",
        "    clube = clube\n",
        "    tds = jog.find_all(\"td\", {\"class\": \"zentriert\"})\n",
        "    posicao = tds[0].get(\"title\")\n",
        "    idade = tds[1].text[-3:-1]\n",
        "    nacionalidade = tds[2].img.get(\"alt\")\n",
        "    altura = tds[3].text[0:-2]\n",
        "    pe = tds[4].text\n",
        "    desde = tds[5].text\n",
        "    try:\n",
        "        clube_anterior = tds[6].img.get(\"alt\")\n",
        "    except AttributeError:\n",
        "        clube_anterior = 'categoria de base'\n",
        "    try:    \n",
        "      preco_pago = tds[6].img.get('title')\n",
        "    except AttributeError:\n",
        "      preco_pago = 'NA'\n",
        "    contrato = tds[7].text\n",
        "    if jog.find(\"td\", {\"class\": \"rechts hauptlink\"}).text[0:-2] is not '':\n",
        "      valor = jog.find(\"td\", {\"class\": \"rechts hauptlink\"}).text[0:-2]\n",
        "    else:\n",
        "      valor = 0\n",
        "    jogadores.append(\n",
        "        (   id,\n",
        "            nome,\n",
        "            clube,\n",
        "            posicao,\n",
        "            idade,\n",
        "            nacionalidade,\n",
        "            altura,\n",
        "            pe,\n",
        "            desde,\n",
        "            clube_anterior,\n",
        "            preco_pago,\n",
        "            contrato,\n",
        "            valor,\n",
        "        )\n",
        "    )"
      ],
      "execution_count": null,
      "outputs": []
    },
    {
      "cell_type": "markdown",
      "metadata": {
        "id": "iJ-V7-ejycuD"
      },
      "source": [
        "# Sport Recife"
      ]
    },
    {
      "cell_type": "code",
      "metadata": {
        "id": "4XiQO1phybTi"
      },
      "source": [
        "headers = {'User-Agent': 'Mozilla/5.0 (X11; Linux x86_64) AppleWebKit/537.36 (KHTML, like Gecko) Chrome/47.0.2526.106 Safari/537.36'}\n",
        "r = requests.get('https://www.transfermarkt.com.br/sport-club-do-recife/kader/verein/8718/saison_id/2019/plus/1', headers=headers)\n",
        "soup = BeautifulSoup(r.text, 'html.parser')\n",
        "impar = soup.find('table',{'class':'items'}).find_all('tr',{'class':'odd'})\n",
        "par = soup.find('table',{'class':'items'}).find_all('tr',{'class':'even'})\n",
        "clube = soup.find('div',{'class':'dataName'}).span.text\n",
        "\n",
        "\n",
        "for jog in impar:\n",
        "    id = jog.find('a', {'class':'spielprofil_tooltip'})['id']\n",
        "    nome = jog.find_all(\"tr\")[0].img.get(\"alt\")\n",
        "    clube = clube\n",
        "    tds = jog.find_all(\"td\", {\"class\": \"zentriert\"})\n",
        "    posicao = tds[0].get(\"title\")\n",
        "    idade = tds[1].text[-3:-1]\n",
        "    nacionalidade = tds[2].img.get(\"alt\")\n",
        "    altura = tds[3].text[0:-2]\n",
        "    pe = tds[4].text\n",
        "    desde = tds[5].text\n",
        "    try:\n",
        "        clube_anterior = tds[6].img.get(\"alt\")\n",
        "    except AttributeError:\n",
        "        clube_anterior = 'categoria de base'\n",
        "    try:    \n",
        "      preco_pago = tds[6].img.get('title')\n",
        "    except AttributeError:\n",
        "      preco_pago = 'NA'\n",
        "    contrato = tds[7].text\n",
        "    if jog.find(\"td\", {\"class\": \"rechts hauptlink\"}).text[0:-2] is not '':\n",
        "      valor = jog.find(\"td\", {\"class\": \"rechts hauptlink\"}).text[0:-2]\n",
        "    else:\n",
        "      valor = 0\n",
        "    jogadores.append(\n",
        "        (   id,\n",
        "            nome,\n",
        "            clube,\n",
        "            posicao,\n",
        "            idade,\n",
        "            nacionalidade,\n",
        "            altura,\n",
        "            pe,\n",
        "            desde,\n",
        "            clube_anterior,\n",
        "            preco_pago,\n",
        "            contrato,\n",
        "            valor,\n",
        "        )\n",
        "    )\n",
        "\n",
        "\n",
        "for jog in par:\n",
        "    id = jog.find('a', {'class':'spielprofil_tooltip'})['id']\n",
        "    nome = jog.find_all(\"tr\")[0].img.get(\"alt\")\n",
        "    clube = clube\n",
        "    tds = jog.find_all(\"td\", {\"class\": \"zentriert\"})\n",
        "    posicao = tds[0].get(\"title\")\n",
        "    idade = tds[1].text[-3:-1]\n",
        "    nacionalidade = tds[2].img.get(\"alt\")\n",
        "    altura = tds[3].text[0:-2]\n",
        "    pe = tds[4].text\n",
        "    desde = tds[5].text\n",
        "    try:\n",
        "        clube_anterior = tds[6].img.get(\"alt\")\n",
        "    except AttributeError:\n",
        "        clube_anterior = 'categoria de base'\n",
        "    try:    \n",
        "      preco_pago = tds[6].img.get('title')\n",
        "    except AttributeError:\n",
        "      preco_pago = 'NA'\n",
        "    contrato = tds[7].text\n",
        "    if jog.find(\"td\", {\"class\": \"rechts hauptlink\"}).text[0:-2] is not '':\n",
        "      valor = jog.find(\"td\", {\"class\": \"rechts hauptlink\"}).text[0:-2]\n",
        "    else:\n",
        "      valor = 0\n",
        "    jogadores.append(\n",
        "        (   id,\n",
        "            nome,\n",
        "            clube,\n",
        "            posicao,\n",
        "            idade,\n",
        "            nacionalidade,\n",
        "            altura,\n",
        "            pe,\n",
        "            desde,\n",
        "            clube_anterior,\n",
        "            preco_pago,\n",
        "            contrato,\n",
        "            valor,\n",
        "        )\n",
        "    )"
      ],
      "execution_count": null,
      "outputs": []
    },
    {
      "cell_type": "markdown",
      "metadata": {
        "id": "RODI5jP13IfW"
      },
      "source": [
        "# EC Vitória"
      ]
    },
    {
      "cell_type": "code",
      "metadata": {
        "id": "Vb6KJt3R3IBa"
      },
      "source": [
        "headers = {'User-Agent': 'Mozilla/5.0 (X11; Linux x86_64) AppleWebKit/537.36 (KHTML, like Gecko) Chrome/47.0.2526.106 Safari/537.36'}\n",
        "r = requests.get('https://www.transfermarkt.com.br/esporte-clube-vitoria/kader/verein/2125/saison_id/2019/plus/1', headers=headers)\n",
        "soup = BeautifulSoup(r.text, 'html.parser')\n",
        "impar = soup.find('table',{'class':'items'}).find_all('tr',{'class':'odd'})\n",
        "par = soup.find('table',{'class':'items'}).find_all('tr',{'class':'even'})\n",
        "clube = soup.find('div',{'class':'dataName'}).span.text\n",
        "\n",
        "\n",
        "for jog in impar:\n",
        "    id = jog.find('a', {'class':'spielprofil_tooltip'})['id']\n",
        "    nome = jog.find_all(\"tr\")[0].img.get(\"alt\")\n",
        "    clube = clube\n",
        "    tds = jog.find_all(\"td\", {\"class\": \"zentriert\"})\n",
        "    posicao = tds[0].get(\"title\")\n",
        "    idade = tds[1].text[-3:-1]\n",
        "    nacionalidade = tds[2].img.get(\"alt\")\n",
        "    altura = tds[3].text[0:-2]\n",
        "    pe = tds[4].text\n",
        "    desde = tds[5].text\n",
        "    try:\n",
        "        clube_anterior = tds[6].img.get(\"alt\")\n",
        "    except AttributeError:\n",
        "        clube_anterior = 'categoria de base'\n",
        "    try:    \n",
        "      preco_pago = tds[6].img.get('title')\n",
        "    except AttributeError:\n",
        "      preco_pago = 'NA'\n",
        "    contrato = tds[7].text\n",
        "    if jog.find(\"td\", {\"class\": \"rechts hauptlink\"}).text[0:-2] is not '':\n",
        "      valor = jog.find(\"td\", {\"class\": \"rechts hauptlink\"}).text[0:-2]\n",
        "    else:\n",
        "      valor = 0\n",
        "    jogadores.append(\n",
        "        (   id,\n",
        "            nome,\n",
        "            clube,\n",
        "            posicao,\n",
        "            idade,\n",
        "            nacionalidade,\n",
        "            altura,\n",
        "            pe,\n",
        "            desde,\n",
        "            clube_anterior,\n",
        "            preco_pago,\n",
        "            contrato,\n",
        "            valor,\n",
        "        )\n",
        "    )\n",
        "\n",
        "\n",
        "for jog in par:\n",
        "    id = jog.find('a', {'class':'spielprofil_tooltip'})['id']\n",
        "    nome = jog.find_all(\"tr\")[0].img.get(\"alt\")\n",
        "    clube = clube\n",
        "    tds = jog.find_all(\"td\", {\"class\": \"zentriert\"})\n",
        "    posicao = tds[0].get(\"title\")\n",
        "    idade = tds[1].text[-3:-1]\n",
        "    nacionalidade = tds[2].img.get(\"alt\")\n",
        "    altura = tds[3].text[0:-2]\n",
        "    pe = tds[4].text\n",
        "    desde = tds[5].text\n",
        "    try:\n",
        "        clube_anterior = tds[6].img.get(\"alt\")\n",
        "    except AttributeError:\n",
        "        clube_anterior = 'categoria de base'\n",
        "    try:    \n",
        "      preco_pago = tds[6].img.get('title')\n",
        "    except AttributeError:\n",
        "      preco_pago = 'NA'\n",
        "    contrato = tds[7].text\n",
        "    if jog.find(\"td\", {\"class\": \"rechts hauptlink\"}).text[0:-2] is not '':\n",
        "      valor = jog.find(\"td\", {\"class\": \"rechts hauptlink\"}).text[0:-2]\n",
        "    else:\n",
        "      valor = 0\n",
        "    jogadores.append(\n",
        "        (   id,\n",
        "            nome,\n",
        "            clube,\n",
        "            posicao,\n",
        "            idade,\n",
        "            nacionalidade,\n",
        "            altura,\n",
        "            pe,\n",
        "            desde,\n",
        "            clube_anterior,\n",
        "            preco_pago,\n",
        "            contrato,\n",
        "            valor,\n",
        "        )\n",
        "    )"
      ],
      "execution_count": null,
      "outputs": []
    },
    {
      "cell_type": "markdown",
      "metadata": {
        "id": "1p1kxBWy3Pco"
      },
      "source": [
        "#Náutico"
      ]
    },
    {
      "cell_type": "code",
      "metadata": {
        "id": "e1pZjXLo3PEO"
      },
      "source": [
        "headers = {'User-Agent': 'Mozilla/5.0 (X11; Linux x86_64) AppleWebKit/537.36 (KHTML, like Gecko) Chrome/47.0.2526.106 Safari/537.36'}\n",
        "r = requests.get('https://www.transfermarkt.com.br/clube-nautico-capibaribe/kader/verein/2646/saison_id/2019/plus/1', headers=headers)\n",
        "soup = BeautifulSoup(r.text, 'html.parser')\n",
        "impar = soup.find('table',{'class':'items'}).find_all('tr',{'class':'odd'})\n",
        "par = soup.find('table',{'class':'items'}).find_all('tr',{'class':'even'})\n",
        "clube = soup.find('div',{'class':'dataName'}).span.text\n",
        "\n",
        "\n",
        "for jog in impar:\n",
        "    id = jog.find('a', {'class':'spielprofil_tooltip'})['id']\n",
        "    nome = jog.find_all(\"tr\")[0].img.get(\"alt\")\n",
        "    clube = clube\n",
        "    tds = jog.find_all(\"td\", {\"class\": \"zentriert\"})\n",
        "    posicao = tds[0].get(\"title\")\n",
        "    idade = tds[1].text[-3:-1]\n",
        "    nacionalidade = tds[2].img.get(\"alt\")\n",
        "    altura = tds[3].text[0:-2]\n",
        "    pe = tds[4].text\n",
        "    desde = tds[5].text\n",
        "    try:\n",
        "        clube_anterior = tds[6].img.get(\"alt\")\n",
        "    except AttributeError:\n",
        "        clube_anterior = 'categoria de base'\n",
        "    try:    \n",
        "      preco_pago = tds[6].img.get('title')\n",
        "    except AttributeError:\n",
        "      preco_pago = 'NA'\n",
        "    contrato = tds[7].text\n",
        "    if jog.find(\"td\", {\"class\": \"rechts hauptlink\"}).text[0:-2] is not '':\n",
        "      valor = jog.find(\"td\", {\"class\": \"rechts hauptlink\"}).text[0:-2]\n",
        "    else:\n",
        "      valor = 0\n",
        "    jogadores.append(\n",
        "        (   id,\n",
        "            nome,\n",
        "            clube,\n",
        "            posicao,\n",
        "            idade,\n",
        "            nacionalidade,\n",
        "            altura,\n",
        "            pe,\n",
        "            desde,\n",
        "            clube_anterior,\n",
        "            preco_pago,\n",
        "            contrato,\n",
        "            valor,\n",
        "        )\n",
        "    )\n",
        "\n",
        "\n",
        "for jog in par:\n",
        "    id = jog.find('a', {'class':'spielprofil_tooltip'})['id']\n",
        "    nome = jog.find_all(\"tr\")[0].img.get(\"alt\")\n",
        "    clube = clube\n",
        "    tds = jog.find_all(\"td\", {\"class\": \"zentriert\"})\n",
        "    posicao = tds[0].get(\"title\")\n",
        "    idade = tds[1].text[-3:-1]\n",
        "    nacionalidade = tds[2].img.get(\"alt\")\n",
        "    altura = tds[3].text[0:-2]\n",
        "    pe = tds[4].text\n",
        "    desde = tds[5].text\n",
        "    try:\n",
        "        clube_anterior = tds[6].img.get(\"alt\")\n",
        "    except AttributeError:\n",
        "        clube_anterior = 'categoria de base'\n",
        "    try:    \n",
        "      preco_pago = tds[6].img.get('title')\n",
        "    except AttributeError:\n",
        "      preco_pago = 'NA'\n",
        "    contrato = tds[7].text\n",
        "    if jog.find(\"td\", {\"class\": \"rechts hauptlink\"}).text[0:-2] is not '':\n",
        "      valor = jog.find(\"td\", {\"class\": \"rechts hauptlink\"}).text[0:-2]\n",
        "    else:\n",
        "      valor = 0\n",
        "    jogadores.append(\n",
        "        (   id,\n",
        "            nome,\n",
        "            clube,\n",
        "            posicao,\n",
        "            idade,\n",
        "            nacionalidade,\n",
        "            altura,\n",
        "            pe,\n",
        "            desde,\n",
        "            clube_anterior,\n",
        "            preco_pago,\n",
        "            contrato,\n",
        "            valor,\n",
        "        )\n",
        "    )"
      ],
      "execution_count": null,
      "outputs": []
    },
    {
      "cell_type": "markdown",
      "metadata": {
        "id": "pRNz0Sf-3S0h"
      },
      "source": [
        "# Santa Cruz"
      ]
    },
    {
      "cell_type": "code",
      "metadata": {
        "id": "x5gTIlY-3Vf-"
      },
      "source": [
        "headers = {'User-Agent': 'Mozilla/5.0 (X11; Linux x86_64) AppleWebKit/537.36 (KHTML, like Gecko) Chrome/47.0.2526.106 Safari/537.36'}\n",
        "r = requests.get('https://www.transfermarkt.com.br/santa-cruz-futebol-clube-pe-/kader/verein/1785/saison_id/2019/plus/1', headers=headers)\n",
        "soup = BeautifulSoup(r.text, 'html.parser')\n",
        "impar = soup.find('table',{'class':'items'}).find_all('tr',{'class':'odd'})\n",
        "par = soup.find('table',{'class':'items'}).find_all('tr',{'class':'even'})\n",
        "clube = soup.find('div',{'class':'dataName'}).span.text\n",
        "\n",
        "\n",
        "for jog in impar:\n",
        "    id = jog.find('a', {'class':'spielprofil_tooltip'})['id']\n",
        "    nome = jog.find_all(\"tr\")[0].img.get(\"alt\")\n",
        "    clube = clube\n",
        "    tds = jog.find_all(\"td\", {\"class\": \"zentriert\"})\n",
        "    posicao = tds[0].get(\"title\")\n",
        "    idade = tds[1].text[-3:-1]\n",
        "    nacionalidade = tds[2].img.get(\"alt\")\n",
        "    altura = tds[3].text[0:-2]\n",
        "    pe = tds[4].text\n",
        "    desde = tds[5].text\n",
        "    try:\n",
        "        clube_anterior = tds[6].img.get(\"alt\")\n",
        "    except AttributeError:\n",
        "        clube_anterior = 'categoria de base'\n",
        "    try:    \n",
        "      preco_pago = tds[6].img.get('title')\n",
        "    except AttributeError:\n",
        "      preco_pago = 'NA'\n",
        "    contrato = tds[7].text\n",
        "    if jog.find(\"td\", {\"class\": \"rechts hauptlink\"}).text[0:-2] is not '':\n",
        "      valor = jog.find(\"td\", {\"class\": \"rechts hauptlink\"}).text[0:-2]\n",
        "    else:\n",
        "      valor = 0\n",
        "    jogadores.append(\n",
        "        (   id,\n",
        "            nome,\n",
        "            clube,\n",
        "            posicao,\n",
        "            idade,\n",
        "            nacionalidade,\n",
        "            altura,\n",
        "            pe,\n",
        "            desde,\n",
        "            clube_anterior,\n",
        "            preco_pago,\n",
        "            contrato,\n",
        "            valor,\n",
        "        )\n",
        "    )\n",
        "\n",
        "\n",
        "for jog in par:\n",
        "    id = jog.find('a', {'class':'spielprofil_tooltip'})['id']\n",
        "    nome = jog.find_all(\"tr\")[0].img.get(\"alt\")\n",
        "    clube = clube\n",
        "    tds = jog.find_all(\"td\", {\"class\": \"zentriert\"})\n",
        "    posicao = tds[0].get(\"title\")\n",
        "    idade = tds[1].text[-3:-1]\n",
        "    nacionalidade = tds[2].img.get(\"alt\")\n",
        "    altura = tds[3].text[0:-2]\n",
        "    pe = tds[4].text\n",
        "    desde = tds[5].text\n",
        "    try:\n",
        "        clube_anterior = tds[6].img.get(\"alt\")\n",
        "    except AttributeError:\n",
        "        clube_anterior = 'categoria de base'\n",
        "    try:    \n",
        "      preco_pago = tds[6].img.get('title')\n",
        "    except AttributeError:\n",
        "      preco_pago = 'NA'\n",
        "    contrato = tds[7].text\n",
        "    if jog.find(\"td\", {\"class\": \"rechts hauptlink\"}).text[0:-2] is not '':\n",
        "      valor = jog.find(\"td\", {\"class\": \"rechts hauptlink\"}).text[0:-2]\n",
        "    else:\n",
        "      valor = 0\n",
        "    jogadores.append(\n",
        "        (   id,\n",
        "            nome,\n",
        "            clube,\n",
        "            posicao,\n",
        "            idade,\n",
        "            nacionalidade,\n",
        "            altura,\n",
        "            pe,\n",
        "            desde,\n",
        "            clube_anterior,\n",
        "            preco_pago,\n",
        "            contrato,\n",
        "            valor,\n",
        "        )\n",
        "    )"
      ],
      "execution_count": null,
      "outputs": []
    },
    {
      "cell_type": "markdown",
      "metadata": {
        "id": "uL7h6y2fcvjZ"
      },
      "source": [
        "#Convertendo a lista de tuplas em Data Frame"
      ]
    },
    {
      "cell_type": "code",
      "metadata": {
        "id": "P6cDXDfXJFbn",
        "colab": {
          "base_uri": "https://localhost:8080/",
          "height": 204
        },
        "outputId": "e7abf8e4-698a-4f0b-fbe2-f11cd78ce38a"
      },
      "source": [
        "df_jogadores = pd.DataFrame(jogadores)\n",
        "df_jogadores.tail()"
      ],
      "execution_count": null,
      "outputs": [
        {
          "output_type": "execute_result",
          "data": {
            "text/html": [
              "<div>\n",
              "<style scoped>\n",
              "    .dataframe tbody tr th:only-of-type {\n",
              "        vertical-align: middle;\n",
              "    }\n",
              "\n",
              "    .dataframe tbody tr th {\n",
              "        vertical-align: top;\n",
              "    }\n",
              "\n",
              "    .dataframe thead th {\n",
              "        text-align: right;\n",
              "    }\n",
              "</style>\n",
              "<table border=\"1\" class=\"dataframe\">\n",
              "  <thead>\n",
              "    <tr style=\"text-align: right;\">\n",
              "      <th></th>\n",
              "      <th>0</th>\n",
              "      <th>1</th>\n",
              "      <th>2</th>\n",
              "      <th>3</th>\n",
              "      <th>4</th>\n",
              "      <th>5</th>\n",
              "      <th>6</th>\n",
              "      <th>7</th>\n",
              "      <th>8</th>\n",
              "      <th>9</th>\n",
              "      <th>10</th>\n",
              "      <th>11</th>\n",
              "      <th>12</th>\n",
              "    </tr>\n",
              "  </thead>\n",
              "  <tbody>\n",
              "    <tr>\n",
              "      <th>345</th>\n",
              "      <td>737097</td>\n",
              "      <td>Vinicius Balotelli</td>\n",
              "      <td>Santa Cruz FC</td>\n",
              "      <td>Sturm</td>\n",
              "      <td>21</td>\n",
              "      <td>Brasil</td>\n",
              "      <td></td>\n",
              "      <td>m</td>\n",
              "      <td>direito</td>\n",
              "      <td>categoria de base</td>\n",
              "      <td>NA</td>\n",
              "      <td></td>\n",
              "      <td>0</td>\n",
              "    </tr>\n",
              "    <tr>\n",
              "      <th>346</th>\n",
              "      <td>374838</td>\n",
              "      <td>Victor Rangel</td>\n",
              "      <td>Santa Cruz FC</td>\n",
              "      <td>Sturm</td>\n",
              "      <td>28</td>\n",
              "      <td>Brasil</td>\n",
              "      <td></td>\n",
              "      <td>1,82 m</td>\n",
              "      <td>direito</td>\n",
              "      <td>categoria de base</td>\n",
              "      <td>NA</td>\n",
              "      <td></td>\n",
              "      <td>300 mil €</td>\n",
              "    </tr>\n",
              "    <tr>\n",
              "      <th>347</th>\n",
              "      <td>550475</td>\n",
              "      <td>João Marcos</td>\n",
              "      <td>Santa Cruz FC</td>\n",
              "      <td>Sturm</td>\n",
              "      <td>22</td>\n",
              "      <td>Brasil</td>\n",
              "      <td></td>\n",
              "      <td>m</td>\n",
              "      <td>-</td>\n",
              "      <td>categoria de base</td>\n",
              "      <td>NA</td>\n",
              "      <td></td>\n",
              "      <td>0</td>\n",
              "    </tr>\n",
              "    <tr>\n",
              "      <th>348</th>\n",
              "      <td>745166</td>\n",
              "      <td>João Cardoso</td>\n",
              "      <td>Santa Cruz FC</td>\n",
              "      <td>Sturm</td>\n",
              "      <td>18</td>\n",
              "      <td>Brasil</td>\n",
              "      <td></td>\n",
              "      <td>m</td>\n",
              "      <td>-</td>\n",
              "      <td>categoria de base</td>\n",
              "      <td>NA</td>\n",
              "      <td></td>\n",
              "      <td>0</td>\n",
              "    </tr>\n",
              "    <tr>\n",
              "      <th>349</th>\n",
              "      <td>740300</td>\n",
              "      <td>Felipe Almeida</td>\n",
              "      <td>Santa Cruz FC</td>\n",
              "      <td>Sturm</td>\n",
              "      <td>18</td>\n",
              "      <td>Brasil</td>\n",
              "      <td></td>\n",
              "      <td>m</td>\n",
              "      <td>-</td>\n",
              "      <td>categoria de base</td>\n",
              "      <td>NA</td>\n",
              "      <td></td>\n",
              "      <td>0</td>\n",
              "    </tr>\n",
              "  </tbody>\n",
              "</table>\n",
              "</div>"
            ],
            "text/plain": [
              "         0                   1              2   ...  10 11         12\n",
              "345  737097  Vinicius Balotelli  Santa Cruz FC  ...  NA             0\n",
              "346  374838       Victor Rangel  Santa Cruz FC  ...  NA     300 mil €\n",
              "347  550475         João Marcos  Santa Cruz FC  ...  NA             0\n",
              "348  745166        João Cardoso  Santa Cruz FC  ...  NA             0\n",
              "349  740300      Felipe Almeida  Santa Cruz FC  ...  NA             0\n",
              "\n",
              "[5 rows x 13 columns]"
            ]
          },
          "metadata": {
            "tags": []
          },
          "execution_count": 10
        }
      ]
    },
    {
      "cell_type": "code",
      "metadata": {
        "id": "k5P3-yw7cuo3"
      },
      "source": [
        "df_jogadores.columns = ['id','nome','clube','posicao','idade','nacionalidade','altura','pe',\n",
        "                    'chegada','clube_anterior','preco_pago','contrato','valor_euros']\n",
        "\n",
        "df_jogadores.contrato = pd.to_datetime(df_jogadores.contrato, errors ='coerce')"
      ],
      "execution_count": null,
      "outputs": []
    },
    {
      "cell_type": "code",
      "metadata": {
        "id": "sFuW9i0_gTzL"
      },
      "source": [
        "df_jogadores.set_index('nome', inplace = True)"
      ],
      "execution_count": null,
      "outputs": []
    },
    {
      "cell_type": "code",
      "metadata": {
        "id": "vuUNtUPdr_oS"
      },
      "source": [
        "traducao = {'Gen':'jan', 'Cʼhwe':'feb', 'Meur':'mar', 'Ebr':'apr','Mae':'may', 'Mezh':'jun', 'Goue':'jul', \n",
        "'Eost':'aug', 'Gwen':'sep', 'Here':'oct', 'Du':'nov', 'Ker':'dec'}\n"
      ],
      "execution_count": null,
      "outputs": []
    },
    {
      "cell_type": "code",
      "metadata": {
        "id": "bbrvjXdkpW1U"
      },
      "source": [
        "df_jogadores.chegada = df_jogadores.chegada.str.replace('Gen','jan')\n",
        "df_jogadores.chegada = df_jogadores.chegada.str.replace('Du', 'nov')\n",
        "df_jogadores.chegada = df_jogadores.chegada.str.replace('Ebr', 'apr')\n",
        "df_jogadores.chegada = df_jogadores.chegada.str.replace('Eost','aug')\n",
        "df_jogadores.chegada = df_jogadores.chegada.str.replace('Cʼhwe', 'feb')\n",
        "df_jogadores.chegada = df_jogadores.chegada.str.replace('Goue', 'jul')\n",
        "df_jogadores.chegada = df_jogadores.chegada.str.replace('Gwen', 'sep')\n",
        "df_jogadores.chegada = df_jogadores.chegada.str.replace('Here', 'oct')\n",
        "df_jogadores.chegada = df_jogadores.chegada.str.replace('Ker', 'dec')\n",
        "df_jogadores.chegada = df_jogadores.chegada.str.replace('Mae', 'may')\n",
        "df_jogadores.chegada = df_jogadores.chegada.str.replace('Meur', 'mar')\n",
        "df_jogadores.chegada = df_jogadores.chegada.str.replace( 'Mezh', 'jun')\n",
        "df_jogadores.chegada = pd.to_datetime(df_jogadores.chegada, errors='coerce')"
      ],
      "execution_count": null,
      "outputs": []
    },
    {
      "cell_type": "code",
      "metadata": {
        "id": "IYkaaGq8oc7v"
      },
      "source": [
        "df_jogadores.preco_pago = df_jogadores.preco_pago.str.replace(': Ablöse','')\n",
        "df_jogadores.preco_pago = df_jogadores.preco_pago.str.replace('?','desconhecido')"
      ],
      "execution_count": null,
      "outputs": []
    },
    {
      "cell_type": "code",
      "metadata": {
        "id": "-EZU2Zs-oUG6"
      },
      "source": [
        "df_jogadores.valor_euros = df_jogadores.valor_euros.str.replace(',','.')\n",
        "df_jogadores.preco_pago = df_jogadores.preco_pago.str.replace(',','.')"
      ],
      "execution_count": null,
      "outputs": []
    },
    {
      "cell_type": "code",
      "metadata": {
        "id": "J4p91G_1qZRh"
      },
      "source": [
        "#Tranformando em numérico\n",
        "df_jogadores.idade = df_jogadores.idade.astype(int) "
      ],
      "execution_count": null,
      "outputs": []
    },
    {
      "cell_type": "code",
      "metadata": {
        "id": "QDVeKXYnt7qb"
      },
      "source": [
        "df_jogadores.preco_pago = df_jogadores.preco_pago.str.replace('milhões','Milhões')"
      ],
      "execution_count": null,
      "outputs": []
    },
    {
      "cell_type": "code",
      "metadata": {
        "id": "J7JDBhQisNt6"
      },
      "source": [
        "def conversor(n): \n",
        "  n.split('   ')[0].strip()\n",
        "  \n",
        "  if 'Milhões' in n: \n",
        "          return 1e6 * float(n[0:4]) \n",
        "  if 'mil' in n: \n",
        "           return 1e3 * float(n[0:3]) \n",
        "  if 'zero' in n: \n",
        "           return 0 \n",
        "  return np.nan\n"
      ],
      "execution_count": null,
      "outputs": []
    },
    {
      "cell_type": "code",
      "metadata": {
        "id": "l6BJLrldwXkw"
      },
      "source": [
        "df_jogadores.preco_pago = df_jogadores.preco_pago.apply(conversor)"
      ],
      "execution_count": null,
      "outputs": []
    },
    {
      "cell_type": "code",
      "metadata": {
        "id": "FmjKUhnIs2E2",
        "colab": {
          "base_uri": "https://localhost:8080/",
          "height": 129
        },
        "outputId": "1f64e607-da4a-419e-e0ee-b3e3eeccc112"
      },
      "source": [
        "df_jogadores.valor_euros = df_jogadores.valor_euros.str.replace(' ', '')\n",
        "df_jogadores.valor_euros.fillna('0',inplace=True)\n",
        "df_jogadores['valor_euros'] = df_jogadores['valor_euros'].replace({'mil€': '*1e3', 'milhões€': '*1e6'}, regex=True).map(pd.eval)"
      ],
      "execution_count": null,
      "outputs": [
        {
          "output_type": "error",
          "ename": "SyntaxError",
          "evalue": "ignored",
          "traceback": [
            "\u001b[0;36m  File \u001b[0;32m\"<unknown>\"\u001b[0;36m, line \u001b[0;32m1\u001b[0m\n\u001b[0;31m    1.00 mi .€\u001b[0m\n\u001b[0m          ^\u001b[0m\n\u001b[0;31mSyntaxError\u001b[0m\u001b[0;31m:\u001b[0m invalid syntax\n"
          ]
        }
      ]
    },
    {
      "cell_type": "code",
      "metadata": {
        "id": "Jj4CGMRGjA8z"
      },
      "source": [
        "df_jogadores.preco_pago = (df_jogadores.preco_pago / 1000000).round(2)\n",
        "df_jogadores.valor_euros = (df_jogadores.valor_euros / 1000000).round(2)\n",
        "df_jogadores['valor_reais'] = (df_jogadores['valor_euros'] * euro)\n",
        "df_jogadores['preco_pago_reais'] = (df_jogadores['preco_pago'] * euro)"
      ],
      "execution_count": null,
      "outputs": []
    },
    {
      "cell_type": "code",
      "metadata": {
        "id": "eetv6kyHgUuu"
      },
      "source": [
        " df_jogadores['dias_no_clube'] = (pd.to_datetime(date.today()) - df_jogadores.chegada)"
      ],
      "execution_count": null,
      "outputs": []
    },
    {
      "cell_type": "code",
      "metadata": {
        "id": "wfX5YAoh2r3i"
      },
      "source": [
        "df_jogadores['lucro'] = df_jogadores.valor_euros - df_jogadores.preco_pago.fillna(0)"
      ],
      "execution_count": null,
      "outputs": []
    },
    {
      "cell_type": "code",
      "metadata": {
        "id": "6tsPzVwtzBl8"
      },
      "source": [
        "df_jogadores.groupby('clube').valor_euros.sum().sort_values(ascending = False)"
      ],
      "execution_count": null,
      "outputs": []
    },
    {
      "cell_type": "code",
      "metadata": {
        "id": "5botQlURzZIL"
      },
      "source": [
        "df_jogadores.dropna().sort_values('dias_no_clube').tail()"
      ],
      "execution_count": null,
      "outputs": []
    },
    {
      "cell_type": "code",
      "metadata": {
        "id": "S4s0b-jyhA-w"
      },
      "source": [
        "clubes = list(df_jogadores['clube'].unique())\n",
        "bahia = df_jogadores[df_jogadores.clube == clubes[0]]\n",
        "ceara = df_jogadores[df_jogadores.clube == clubes[1]]\n",
        "fortaleza = df_jogadores[df_jogadores.clube == clubes[2]]\n",
        "sport = df_jogadores[df_jogadores.clube == clubes[3]]\n",
        "vitoria = df_jogadores[df_jogadores.clube == clubes[4]]\n",
        "nautico = df_jogadores[df_jogadores.clube == clubes[5]]\n",
        "santa = df_jogadores[df_jogadores.clube == clubes[6]]"
      ],
      "execution_count": null,
      "outputs": []
    },
    {
      "cell_type": "code",
      "metadata": {
        "id": "ZFqrgCoBifE8"
      },
      "source": [
        "santa"
      ],
      "execution_count": null,
      "outputs": []
    },
    {
      "cell_type": "code",
      "metadata": {
        "id": "ifCTdXfXFfIw"
      },
      "source": [
        "lista_id = list(df_jogadores.id)\n",
        "scout = []"
      ],
      "execution_count": null,
      "outputs": []
    },
    {
      "cell_type": "code",
      "metadata": {
        "id": "GYd4uTlhabRd"
      },
      "source": [
        "lista_id[10]"
      ],
      "execution_count": null,
      "outputs": []
    },
    {
      "cell_type": "code",
      "metadata": {
        "id": "lfk0JIojGMx5"
      },
      "source": [
        "for i in lista_id:\n",
        "  headers = {'User-Agent': 'Mozilla/5.0 (X11; Linux x86_64) AppleWebKit/537.36 (KHTML, like Gecko) Chrome/47.0.2526.106 Safari/537.36'}\n",
        "  r = requests.get('https://www.transfermarkt.com.br/gabriel-barbosa/leistungsdatendetails/spieler/'+i+'/plus/1?saison=&verein=&liga=&wettbewerb=BRA1&pos=&trainer_id=', headers=headers)\n",
        "  soup = BeautifulSoup(r.text, 'html.parser')\n",
        "\n",
        "  try:\n",
        "     impar = soup.find('table',{'class':'items'}).find_all('tr',{'class':'odd'})\n",
        "  except AttributeError:\n",
        "     pass\n",
        "\n",
        "  try:\n",
        "     par = soup.find('table',{'class':'items'}).find_all('tr',{'class':'even'})\n",
        "  except AttributeError:\n",
        "     pass\n",
        "\n",
        "  for stats in impar:\n",
        "    nome = stats.find_all('a')[2]['title']\n",
        "    temporada = stats.td.text\n",
        "    competicao = stats.a['title']\n",
        "    clube = stats.img['alt']\n",
        "    plantel = stats.find_all('td', {'class':\"zentriert\"})[2].text\n",
        "    jogos = stats.find_all('td', {'class':\"zentriert\"})[3].text\n",
        "    ppj = stats.find_all('td', {'class':\"zentriert\"})[4].text\n",
        "    gols = stats.find_all('td', {'class':\"zentriert\"})[5].text\n",
        "    assistencias = stats.find_all('td', {'class':\"zentriert\"})[6].text\n",
        "    gol_contra = stats.find_all('td', {'class':\"zentriert\"})[7].text\n",
        "    utilizado_como_suplente = stats.find_all('td', {'class':\"zentriert\"})[8].text\n",
        "    substituido = stats.find_all('td', {'class':\"zentriert\"})[9].text\n",
        "    amarelo = stats.find_all('td', {'class':\"zentriert\"})[10].text\n",
        "    duplo_amarelo = stats.find_all('td', {'class':\"zentriert\"})[11].text\n",
        "    vermelho = stats.find_all('td', {'class':\"zentriert\"})[12].text\n",
        "    gol_de_penalti = stats.find_all('td', {'class':\"zentriert\"})[13].text\n",
        "    minutos_por_gol = stats.find_all('td', {'class':\"rechts\"})[0].text\n",
        "    try:\n",
        "      minutos_jogados = stats.find_all('td', {'class':\"rechts\"})[1].text\n",
        "    except IndexError:\n",
        "      minutos_jogados = '-'\n",
        "    scout.append(\n",
        "        (nome,\n",
        "         temporada,\n",
        "         competicao,\n",
        "         clube,\n",
        "         plantel,\n",
        "         jogos,\n",
        "         ppj,\n",
        "         gols,\n",
        "         assistencias,\n",
        "         gol_contra,\n",
        "         utilizado_como_suplente,\n",
        "         substituido,\n",
        "         amarelo,\n",
        "         duplo_amarelo,\n",
        "         vermelho,\n",
        "         gol_de_penalti,\n",
        "         minutos_por_gol,\n",
        "         minutos_jogados \n",
        "         )\n",
        "        )\n",
        "    \n",
        "    for stats in par:\n",
        "      nome = stats.find_all('a')[2]['title']\n",
        "      temporada = stats.td.text\n",
        "      competicao = stats.a['title']\n",
        "      clube = stats.img['alt']\n",
        "      plantel = stats.find_all('td', {'class':\"zentriert\"})[2].text\n",
        "      jogos = stats.find_all('td', {'class':\"zentriert\"})[3].text\n",
        "      ppj = stats.find_all('td', {'class':\"zentriert\"})[4].text\n",
        "      gols = stats.find_all('td', {'class':\"zentriert\"})[5].text\n",
        "      assistencias = stats.find_all('td', {'class':\"zentriert\"})[6].text\n",
        "      gol_contra = stats.find_all('td', {'class':\"zentriert\"})[7].text\n",
        "      utilizado_como_suplente = stats.find_all('td', {'class':\"zentriert\"})[8].text\n",
        "      substituido = stats.find_all('td', {'class':\"zentriert\"})[9].text\n",
        "      amarelo = stats.find_all('td', {'class':\"zentriert\"})[10].text\n",
        "      duplo_amarelo = stats.find_all('td', {'class':\"zentriert\"})[11].text\n",
        "      vermelho = stats.find_all('td', {'class':\"zentriert\"})[12].text\n",
        "      gol_de_penalti = stats.find_all('td', {'class':\"zentriert\"})[13].text\n",
        "      minutos_por_gol = stats.find_all('td', {'class':\"rechts\"})[0].text\n",
        "      try:\n",
        "        minutos_jogados = stats.find_all('td', {'class':\"rechts\"})[1].text\n",
        "      except IndexError:\n",
        "        minutos_jogados = '-'\n",
        "      scout.append(\n",
        "          (nome,\n",
        "          temporada,\n",
        "          competicao,\n",
        "          clube,\n",
        "          plantel,\n",
        "          jogos,\n",
        "          ppj,\n",
        "          gols,\n",
        "          assistencias,\n",
        "          gol_contra,\n",
        "          utilizado_como_suplente,\n",
        "          substituido,\n",
        "          amarelo,\n",
        "          duplo_amarelo,\n",
        "          vermelho,\n",
        "          gol_de_penalti,\n",
        "          minutos_por_gol,\n",
        "          minutos_jogados\n",
        "          )\n",
        "          )\n",
        "\n",
        "\n"
      ],
      "execution_count": null,
      "outputs": []
    },
    {
      "cell_type": "code",
      "metadata": {
        "id": "K3J_QhlgXcil"
      },
      "source": [
        "df_scout = pd.DataFrame(scout)\n",
        "df_scout.columns = ['nome',\n",
        "         'temporada',\n",
        "         'competicao',\n",
        "         \"clube\",\n",
        "         \"plantel\",\n",
        "         \"jogos\",\n",
        "         \"ppj\",\n",
        "         \"gols\",\n",
        "         \"assistencias\",\n",
        "         \"gol_contra\",\n",
        "         \"utilizado_como_suplente\",\n",
        "         \"substituido\",\n",
        "         \"amarelo\",\n",
        "         \"duplo_amarelo\",\n",
        "         \"vermelho\",\n",
        "         \"gol_de_penalti\",\n",
        "         \"minutos_por_gol\",\n",
        "         'minutos_jogados']\n",
        "\n",
        "df_scout = df_scout.iloc[44:,]"
      ],
      "execution_count": null,
      "outputs": []
    },
    {
      "cell_type": "code",
      "metadata": {
        "id": "y52kTOMRIwER"
      },
      "source": [
        "df_scout.head()"
      ],
      "execution_count": null,
      "outputs": []
    },
    {
      "cell_type": "code",
      "metadata": {
        "id": "hyMyPGW5YQbr"
      },
      "source": [
        "impar[0].find_all('a')[2]['title']"
      ],
      "execution_count": null,
      "outputs": []
    },
    {
      "cell_type": "code",
      "metadata": {
        "id": "rXs88nSLrU3w"
      },
      "source": [
        "type(scout)"
      ],
      "execution_count": null,
      "outputs": []
    },
    {
      "cell_type": "code",
      "metadata": {
        "id": "rbR4Z1zy0f9A"
      },
      "source": [
        "len(lista_id)"
      ],
      "execution_count": null,
      "outputs": []
    },
    {
      "cell_type": "code",
      "metadata": {
        "id": "rIht8Pul1tgG"
      },
      "source": [
        "df_jogadores.shape"
      ],
      "execution_count": null,
      "outputs": []
    },
    {
      "cell_type": "code",
      "metadata": {
        "id": "aTXqJdx1iFdp"
      },
      "source": [
        "headers = {'User-Agent': 'Mozilla/5.0 (X11; Linux x86_64) AppleWebKit/537.36 (KHTML, like Gecko) Chrome/47.0.2526.106 Safari/537.36'}\n",
        "r = requests.get('https://www.transfermarkt.com.br/gerson/leistungsdatendetails/spieler/374838/plus/1?saison=&verein=&liga=&wettbewerb=&pos=&trainer_id=', headers=headers)\n",
        "soup = BeautifulSoup(r.text, 'html.parser')\n",
        "impar = soup.find('table',{'class':'items'}).find_all('tr',{'class':'odd'})\n",
        "par = soup.find('table',{'class':'items'}).find_all('tr',{'class':'even'})\n"
      ],
      "execution_count": null,
      "outputs": []
    },
    {
      "cell_type": "code",
      "metadata": {
        "id": "JLBqgRFcTVKP"
      },
      "source": [
        "impar[0]"
      ],
      "execution_count": null,
      "outputs": []
    },
    {
      "cell_type": "code",
      "metadata": {
        "id": "rQg7UP9aJTV5"
      },
      "source": [
        "impar[1].prettify()"
      ],
      "execution_count": null,
      "outputs": []
    },
    {
      "cell_type": "code",
      "metadata": {
        "id": "3MST3Nd6P-rc"
      },
      "source": [
        ""
      ],
      "execution_count": null,
      "outputs": []
    },
    {
      "cell_type": "code",
      "metadata": {
        "id": "sVaSznSSJiIK"
      },
      "source": [
        "teste = impar[1]"
      ],
      "execution_count": null,
      "outputs": []
    },
    {
      "cell_type": "code",
      "metadata": {
        "id": "AxEi0wkFOSOS"
      },
      "source": [
        "#Nome\n",
        "teste.find_all('a')[2]['title']"
      ],
      "execution_count": null,
      "outputs": []
    },
    {
      "cell_type": "code",
      "metadata": {
        "id": "gEw4CXClGdHd"
      },
      "source": [
        "#temporada\n",
        "teste.td.text"
      ],
      "execution_count": null,
      "outputs": []
    },
    {
      "cell_type": "code",
      "metadata": {
        "id": "2BVcoBB7Jscg"
      },
      "source": [
        "#competição\n",
        "teste.a['title']"
      ],
      "execution_count": null,
      "outputs": []
    },
    {
      "cell_type": "code",
      "metadata": {
        "id": "c8JCI4-aJRmV"
      },
      "source": [
        "#clube\n",
        "teste.img['alt']"
      ],
      "execution_count": null,
      "outputs": []
    },
    {
      "cell_type": "code",
      "metadata": {
        "id": "5fSMc0p5MXlm"
      },
      "source": [
        "for i in list(range(2,14)):\n",
        "  print(teste.find_all('td', {'class':\"zentriert\"})[i].text)\n",
        "  # Plantel, jogos, pontos por jogo, gols , assistencias, gols contra, utilizado como suplente, substituido, cartao amarelo, duplo amarelo,\n",
        "  #vermelho, gol de penalti"
      ],
      "execution_count": null,
      "outputs": []
    },
    {
      "cell_type": "code",
      "metadata": {
        "id": "6uCAV21JylL-"
      },
      "source": [
        "teste.find_all('td', {'class':\"zentriert\"})[2].text\n",
        "teste.find_all('td', {'class':\"zentriert\"})[13].text"
      ],
      "execution_count": null,
      "outputs": []
    },
    {
      "cell_type": "code",
      "metadata": {
        "id": "0feTtgAOzBEB"
      },
      "source": [
        "for i in range(2,14):\n",
        "    print(i)"
      ],
      "execution_count": null,
      "outputs": []
    },
    {
      "cell_type": "code",
      "metadata": {
        "id": "DaWsdwX8N5Kr"
      },
      "source": [
        "# minutos por gol, minutos jogados \n",
        "#teste.find_all('td', {'class':\"rechts\"})[0].text\n",
        "teste.find_all('td', {'class':\"rechts\"})[1]"
      ],
      "execution_count": null,
      "outputs": []
    },
    {
      "cell_type": "code",
      "metadata": {
        "id": "cUeDupmJM6tt"
      },
      "source": [
        "#Substituições\n",
        "teste.find_all('td', {'class':\"zentriert\"})[14]"
      ],
      "execution_count": null,
      "outputs": []
    },
    {
      "cell_type": "code",
      "metadata": {
        "id": "xFFhqO6BL8VV"
      },
      "source": [
        "#Substituições\n",
        "teste.find_all('td', {'class':\"zentriert\"})[3].text"
      ],
      "execution_count": null,
      "outputs": []
    },
    {
      "cell_type": "code",
      "metadata": {
        "id": "2L1CVHQzL1g3"
      },
      "source": [
        ""
      ],
      "execution_count": null,
      "outputs": []
    }
  ]
}